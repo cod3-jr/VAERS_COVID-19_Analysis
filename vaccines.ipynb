{
 "metadata": {
  "language_info": {
   "codemirror_mode": {
    "name": "ipython",
    "version": 3
   },
   "file_extension": ".py",
   "mimetype": "text/x-python",
   "name": "python",
   "nbconvert_exporter": "python",
   "pygments_lexer": "ipython3",
   "version": "3.9.4"
  },
  "orig_nbformat": 2,
  "kernelspec": {
   "name": "python394jvsc74a57bd0aee8b7b246df8f9039afb4144a1f6fd8d2ca17a180786b69acc140d282b71a49",
   "display_name": "Python 3.9.4 64-bit"
  },
  "metadata": {
   "interpreter": {
    "hash": "aee8b7b246df8f9039afb4144a1f6fd8d2ca17a180786b69acc140d282b71a49"
   }
  }
 },
 "nbformat": 4,
 "nbformat_minor": 2,
 "cells": [
  {
   "cell_type": "code",
   "execution_count": 4,
   "metadata": {},
   "outputs": [
    {
     "output_type": "stream",
     "name": "stderr",
     "text": [
      "/Users/mischafubler/Library/Python/3.9/lib/python/site-packages/IPython/core/interactiveshell.py:3165: DtypeWarning: Columns (7,12,23) have mixed types.Specify dtype option on import or set low_memory=False.\n  has_raised = await self.run_ast_nodes(code_ast.body, cell_name,\n"
     ]
    }
   ],
   "source": [
    "import pandas as pd\n",
    "df = pd.read_csv('data/2021VAERSDATA.csv', encoding='iso-8859-1')"
   ]
  },
  {
   "cell_type": "code",
   "execution_count": 6,
   "metadata": {},
   "outputs": [
    {
     "output_type": "stream",
     "name": "stdout",
     "text": [
      "        VAERS_ID    RECVDATE STATE  AGE_YRS  CAGE_YR  CAGE_MO SEX RPT_DATE  \\\n0         916600  01/01/2021    TX     33.0     33.0      NaN   F      NaN   \n1         916601  01/01/2021    CA     73.0     73.0      NaN   F      NaN   \n2         916602  01/01/2021    WA     23.0     23.0      NaN   F      NaN   \n3         916603  01/01/2021    WA     58.0     58.0      NaN   F      NaN   \n4         916604  01/01/2021    TX     47.0     47.0      NaN   F      NaN   \n...          ...         ...   ...      ...      ...      ...  ..      ...   \n108185   1245684  04/23/2021    HI     73.0      NaN      NaN   M      NaN   \n108186   1245685  04/23/2021    TX      NaN      NaN      NaN   M      NaN   \n108187   1245686  04/23/2021    NY     25.0      NaN      NaN   F      NaN   \n108188   1245687  04/23/2021    IA     18.0      NaN      NaN   F      NaN   \n108189   1245985  04/23/2021   NaN     80.0     80.0      NaN   M      NaN   \n\n                                             SYMPTOM_TEXT DIED  ...  \\\n0       Right side of epiglottis swelled up and hinder...  NaN  ...   \n1       Approximately 30 min post vaccination administ...  NaN  ...   \n2       About 15 minutes after receiving the vaccine, ...  NaN  ...   \n3       extreme fatigue, dizziness,. could not lift my...  NaN  ...   \n4       Injection site swelling, redness, warm to the ...  NaN  ...   \n...                                                   ...  ...  ...   \n108185  HEAD SPINNING/WORLD SPINNING/ VERTIGO; SLIGHT ...  NaN  ...   \n108186  BODY ACHES; WOKE UP SWEATY AND DRENCHED; THOUG...  NaN  ...   \n108187  SWOLLEN LYMPH NODE; THROAT FEELING A LITTLE NU...  NaN  ...   \n108188  DIZZINESS; SEVERE HEADACHE; NAUSEA; TEMPERATUR...  NaN  ...   \n108189  This 80 year old   white  male received the Co...    Y  ...   \n\n                                                  CUR_ILL  \\\n0                                                    None   \n1       Patient residing at nursing facility. See pati...   \n2                                                    None   \n3                                        kidney infection   \n4                                                      Na   \n...                                                   ...   \n108185  Alcohol use (Moderate to light.); Essential hy...   \n108186  Alcohol use (Once a week.); Non-smoker; Season...   \n108187                                     Pollen allergy   \n108188                                           COVID-19   \n108189                                                NaN   \n\n                                                  HISTORY  \\\n0                                                    None   \n1       Patient residing at nursing facility. See pati...   \n2                                                    None   \n3       diverticulitis, mitral valve prolapse, osteoar...   \n4                                                     NaN   \n...                                                   ...   \n108185  Medical History/Concurrent Conditions: Drug al...   \n108186  Medical History/Concurrent Conditions: Drug ab...   \n108187  Comments: The patient was not pregnant at the ...   \n108188                                  Comments: Unknown   \n108189                                                NaN   \n\n                                                PRIOR_VAX  \\\n0                                                     NaN   \n1                                                     NaN   \n2                                                     NaN   \n3       got measles from measel shot, mums from mumps ...   \n4                                                     NaN   \n...                                                   ...   \n108185                                                NaN   \n108186                                                NaN   \n108187                                                NaN   \n108188                                                NaN   \n108189                                                NaN   \n\n                   SPLTTYPE  FORM_VERS TODAYS_DATE BIRTH_DEFECT OFC_VISIT  \\\n0                       NaN          2  01/01/2021          NaN         Y   \n1                       NaN          2  01/01/2021          NaN         Y   \n2                       NaN          2  01/01/2021          NaN       NaN   \n3                       NaN          2  01/01/2021          NaN       NaN   \n4                       NaN          2  01/01/2021          NaN       NaN   \n...                     ...        ...         ...          ...       ...   \n108185  USJNJFOC20210347761          2  04/22/2021          NaN       NaN   \n108186  USJNJFOC20210348673          2  04/22/2021          NaN       NaN   \n108187  USJNJFOC20210410875          2  04/14/2021          NaN       NaN   \n108188  USJNJFOC20210413238          2  04/09/2021          NaN       NaN   \n108189                  NaN          2  04/23/2021          NaN       NaN   \n\n       ER_ED_VISIT                                          ALLERGIES  \n0              NaN                                  Pcn and bee venom  \n1              NaN                                            \"Dairy\"  \n2                Y                                          Shellfish  \n3              NaN  Diclofenac, novacaine, lidocaine, pickles, tom...  \n4              NaN                                                 Na  \n...            ...                                                ...  \n108185         NaN                                                NaN  \n108186         NaN                                                NaN  \n108187         NaN                                                NaN  \n108188         NaN                                                NaN  \n108189         NaN                                                NaN  \n\n[108190 rows x 35 columns]\n"
     ]
    }
   ],
   "source": [
    "print(df)"
   ]
  },
  {
   "cell_type": "code",
   "execution_count": null,
   "metadata": {},
   "outputs": [],
   "source": []
  }
 ]
}